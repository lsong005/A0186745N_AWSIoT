{
 "cells": [
  {
   "cell_type": "code",
   "execution_count": 1,
   "metadata": {},
   "outputs": [],
   "source": [
    "from AWSIoTPythonSDK.MQTTLib import AWSIoTMQTTClient\n",
    "from AWSIoTPythonSDK.MQTTLib import AWSIoTMQTTShadowClient\n",
    "\n",
    "import random, time, datetime \n",
    "import pandas as pd\n",
    "import json"
   ]
  },
  {
   "cell_type": "code",
   "execution_count": 2,
   "metadata": {},
   "outputs": [],
   "source": [
    "SHADOW_CLIENT=\"A0186745N_1\"\n",
    "HOST_NAME=\"a2zdmpkl8brfji-ats.iot.us-west-2.amazonaws.com\"\n",
    "ROOT_CA=\"Amazon_Root_CA_1.pem\"\n",
    "PRIVATE_KEY=\"703b1aaaac-private.pem.key\"\n",
    "CERT_FILE=\"703b1aaaac-certificate.pem.crt\"\n",
    "SHADOW_HANDLER=\"A0186745N_1\""
   ]
  },
  {
   "cell_type": "code",
   "execution_count": 3,
   "metadata": {},
   "outputs": [],
   "source": [
    "def myShadowUpdateCallback(payload,responseStatus,token):\n",
    "    print()\n",
    "    print('UPDATE:$aws/things/'+SHADOW_HANDLER+\n",
    "          '/shadow/update/#')\n",
    "    #print(\"payload=\"+payload)\n",
    "    #print(\"responseStatus=\"+responseStatus)\n",
    "    #print(\"token=\"+token)"
   ]
  },
  {
   "cell_type": "code",
   "execution_count": 4,
   "metadata": {},
   "outputs": [],
   "source": [
    "def customShadowCallback_delete(payload, responseStatus, token):\n",
    "    if responseStatus == \"timeout\":\n",
    "        print(\"Delete request \" + token + \" time out!\")\n",
    "    if responseStatus == \"accepted\":\n",
    "        print(\"Delete request with token \" + token + \" accepted!\")\n",
    "    if responseStatus == \"rejected\":\n",
    "        print(\"Delete request with token \" + token + \" rejected!\")"
   ]
  },
  {
   "cell_type": "code",
   "execution_count": 5,
   "metadata": {},
   "outputs": [],
   "source": [
    "def customShadowCallback_Delta(payload, responseStatus, token):\n",
    "    # payload is a JSON string which will be parsed by jason lib\n",
    "    print(responseStatus)\n",
    "    print(payload)\n",
    "    payloadDict = json.loads(payload)\n",
    "    print(\"++++++++ Get DELTA data +++++++++++\")\n",
    "    desiredStatus = str(payloadDict[\"reported\"])\n",
    "    print(\"desired status: \" + desiredStatus)\n",
    "    print(\"version: \" + str(payloadDict[\"version\"]))"
   ]
  },
  {
   "cell_type": "code",
   "execution_count": 6,
   "metadata": {},
   "outputs": [],
   "source": [
    "def customShadowCallback_Get(payload, responseStatus, token):\n",
    "    print(\"responseStatus: \" + responseStatus)\n",
    "    print(\"payload: \" + payload)\n",
    "    payloadDict = json.loads(payload)\n",
    "    # {\"state\":{\"desired\":{\"light\":37},\"delta\":{\"light\":37}},\"metadata\":{\"desired\":{\"light\":{\"timestamp\":1533888405}}},\"version\":54"
   ]
  },
  {
   "cell_type": "code",
   "execution_count": 7,
   "metadata": {},
   "outputs": [
    {
     "name": "stdout",
     "output_type": "stream",
     "text": [
      "connect to AWS IoT\n"
     ]
    }
   ],
   "source": [
    "print(\"connect to AWS IoT\")\n",
    "myShadowClient=AWSIoTMQTTShadowClient(SHADOW_CLIENT)\n",
    "myShadowClient.configureEndpoint(HOST_NAME,8883)\n",
    "myShadowClient.configureCredentials(ROOT_CA,PRIVATE_KEY,CERT_FILE)\n",
    "# myMQTTClient=AWSIoTMQTTClient(SHADOW_CLIENT)\n",
    "# myMQTTClient.configureEndpoint(HOST_NAME, 8883)\n",
    "# myMQTTClient = myShadowClient.getMQTTConnection()\n",
    "# myMQTTClient.configureOfflinePublishQueueing(-1)\n",
    "myShadowClient.configureConnectDisconnectTimeout(10)\n",
    "myShadowClient.configureMQTTOperationTimeout(10)\n",
    "myShadowClient.connect()\n",
    "myDeviceShadow=myShadowClient.createShadowHandlerWithName(SHADOW_HANDLER,True)"
   ]
  },
  {
   "cell_type": "code",
   "execution_count": 8,
   "metadata": {},
   "outputs": [],
   "source": [
    "#%% load library\n",
    "import gc\n",
    "#import resource\n",
    "import rope\n",
    "#import operator\n",
    "import numpy as np\n",
    "import pandas as pd"
   ]
  },
  {
   "cell_type": "code",
   "execution_count": 9,
   "metadata": {},
   "outputs": [],
   "source": [
    "import matplotlib\n",
    "import matplotlib.pyplot as plt \n",
    "import seaborn as sns\n",
    "sns.set(style=\"white\", color_codes=True)\n",
    "\n",
    "#import xgboost as xgb\n",
    "#from xgboost.sklearn import XGBClassifier\n",
    "\n",
    "from sklearn.model_selection import train_test_split\n",
    "from sklearn.preprocessing import normalize\n",
    "\n",
    "from sklearn.ensemble import RandomForestRegressor\n",
    "from sklearn.linear_model import LassoCV\n",
    "\n",
    "import warnings\n",
    "warnings.filterwarnings(\"ignore\")"
   ]
  },
  {
   "cell_type": "code",
   "execution_count": 10,
   "metadata": {},
   "outputs": [
    {
     "name": "stdout",
     "output_type": "stream",
     "text": [
      "Start loading data ...\n"
     ]
    }
   ],
   "source": [
    "#%% Load data\n",
    "print('Start loading data ...')\n",
    "\n",
    "# Load and combine training data\n",
    "train_1 = pd.read_csv('train_FD001.txt', delim_whitespace=True, header=None)\n",
    "#train_2 = pd.read_csv('./input/train_FD002.txt', delim_whitespace=True, header=None)\n",
    "#train_3 = pd.read_csv('./input/train_FD003.txt', delim_whitespace=True, header=None)\n",
    "#train_4 = pd.read_csv('./input/train_FD004.txt', delim_whitespace=True, header=None)\n",
    "\n",
    "train=train_1"
   ]
  },
  {
   "cell_type": "code",
   "execution_count": 11,
   "metadata": {},
   "outputs": [
    {
     "name": "stdout",
     "output_type": "stream",
     "text": [
      "Dimension of train_FD001:  (20631, 26)\n"
     ]
    }
   ],
   "source": [
    "# Check dimension\n",
    "print('Dimension of train_FD001: ', train.shape)"
   ]
  },
  {
   "cell_type": "code",
   "execution_count": 12,
   "metadata": {},
   "outputs": [],
   "source": [
    "sensor_name = ['s'+ str(i) for i in range(1,22)]\n",
    "train.columns = ['id', 'te', 'os1', 'os2', 'os3'] + sensor_name\n",
    "train['id'] = train_1['id'].map(lambda s: 'FD001_'+str(s))\n",
    "train['Maltricnum']='A0186745N'"
   ]
  },
  {
   "cell_type": "code",
   "execution_count": 17,
   "metadata": {},
   "outputs": [
    {
     "name": "stdout",
     "output_type": "stream",
     "text": [
      "\n",
      "UPDATE:$aws/things/A0186745N_1/shadow/update/#\n",
      "\n",
      "UPDATE:$aws/things/A0186745N_1/shadow/update/#\n",
      "\n",
      "UPDATE:$aws/things/A0186745N_1/shadow/update/#\n",
      "\n",
      "UPDATE:$aws/things/A0186745N_1/shadow/update/#\n",
      "\n",
      "UPDATE:$aws/things/A0186745N_1/shadow/update/#\n"
     ]
    }
   ],
   "source": [
    "import time\n",
    "for i in range(5):\n",
    "    test=train.loc[[i]] \n",
    "    now = datetime.datetime.utcnow()\n",
    "    now='UTC'+str(now)\n",
    "    test['timestamp']=now\n",
    "    test.index=[\"reported\"]\n",
    "    test=test.to_json(orient='index')\n",
    "    test='{\"state\":'+test+'}'\n",
    "    jsonPayload=test    \n",
    "    \n",
    "    myDeviceShadow.shadowUpdate(jsonPayload,myShadowUpdateCallback, 5)\n",
    "    time.sleep(10)"
   ]
  },
  {
   "cell_type": "code",
   "execution_count": 21,
   "metadata": {},
   "outputs": [
    {
     "name": "stdout",
     "output_type": "stream",
     "text": [
      "{\"state\":{\"reported\":{\"id\":\"FD002_1\",\"te\":63,\"os1\":41.9992,\"os2\":0.8413,\"os3\":100.0,\"s1\":445.0,\"s2\":550.1,\"s3\":1355.17,\"s4\":1123.54,\"s5\":3.91,\"s6\":5.71,\"s7\":138.41,\"s8\":2211.53,\"s9\":8311.01,\"s10\":1.02,\"s11\":42.27,\"s12\":130.96,\"s13\":2387.6,\"s14\":8066.56,\"s15\":9.362,\"s16\":0.02,\"s17\":331,\"s18\":2212,\"s19\":100.0,\"s20\":10.36,\"s21\":6.3852,\"Maltricnum\":\"A0184800J\",\"timestamp\":\"UTC2019-09-17 05:41:22.036662\"}}}\n"
     ]
    }
   ],
   "source": [
    "print(test)"
   ]
  },
  {
   "cell_type": "code",
   "execution_count": 15,
   "metadata": {},
   "outputs": [
    {
     "data": {
      "text/plain": [
       "'aa237f28-e6bb-405f-bc83-2cf507ea9c58'"
      ]
     },
     "execution_count": 15,
     "metadata": {},
     "output_type": "execute_result"
    },
    {
     "name": "stdout",
     "output_type": "stream",
     "text": [
      "Delete request with token aa237f28-e6bb-405f-bc83-2cf507ea9c58 accepted!\n"
     ]
    }
   ],
   "source": [
    "myDeviceShadow.shadowDelete( customShadowCallback_delete, 5)"
   ]
  },
  {
   "cell_type": "code",
   "execution_count": null,
   "metadata": {},
   "outputs": [],
   "source": []
  }
 ],
 "metadata": {
  "kernelspec": {
   "display_name": "Python 3",
   "language": "python",
   "name": "python3"
  },
  "language_info": {
   "codemirror_mode": {
    "name": "ipython",
    "version": 3
   },
   "file_extension": ".py",
   "mimetype": "text/x-python",
   "name": "python",
   "nbconvert_exporter": "python",
   "pygments_lexer": "ipython3",
   "version": "3.7.3"
  }
 },
 "nbformat": 4,
 "nbformat_minor": 2
}
